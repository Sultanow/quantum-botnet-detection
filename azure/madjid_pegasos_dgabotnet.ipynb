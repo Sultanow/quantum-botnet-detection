{
  "cells": [
    {
      "cell_type": "markdown",
      "source": [
        "# Pegasos Quantum Support Vector Classifier\n",
        "\n",
        "There's another SVM based algorithm that benefits from the quantum kernel method. Here, we introduce an implementation of a another classification algorithm, which is an alternative version to the `QSVC` available in Qiskit Machine Learning and shown in the [\"Quantum Kernel Machine Learning\"](./03_quantum_kernel.ipynb) tutorial. This classification algorithm implements the Pegasos algorithm from the paper \"Pegasos: Primal Estimated sub-GrAdient SOlver for SVM\" by Shalev-Shwartz et al., see: https://home.ttic.edu/~nati/Publications/PegasosMPB.pdf.\n",
        "\n",
        "This algorithm is an alternative to the dual optimization from the `scikit-learn` package, benefits from the kernel trick, and yields a training complexity that is independent of the size of the training set. Thus, the `PegasosQSVC` is expected to train faster than QSVC for sufficiently large training sets.\n",
        "\n",
        "The algorithm can be used as direct replacement of `QSVC` with some hyper-parameterization."
      ],
      "metadata": {
        "id": "opened-florist"
      },
      "id": "opened-florist"
    },
    {
      "cell_type": "markdown",
      "source": [
        "Let's generate some data:"
      ],
      "metadata": {
        "id": "thirty-painting"
      },
      "id": "thirty-painting"
    },
    {
      "cell_type": "code",
      "source": [
        "import os\n",
        "files = os.listdir(os.curdir)\n",
        "for file in files:\n",
        "    print(file)"
      ],
      "outputs": [
        {
          "output_type": "stream",
          "name": "stdout",
          "text": [
            ".config\n",
            "BotnetDgaDataset_1000.csv\n",
            "sample_data\n"
          ]
        }
      ],
      "execution_count": 1,
      "metadata": {
        "jupyter": {
          "source_hidden": false,
          "outputs_hidden": false
        },
        "nteract": {
          "transient": {
            "deleting": false
          }
        },
        "colab": {
          "base_uri": "https://localhost:8080/"
        },
        "id": "3362235b-385e-413a-b646-caf32971e5a4",
        "outputId": "7d7ae5e2-e9d5-489d-9f79-2affbe627ef4"
      },
      "id": "3362235b-385e-413a-b646-caf32971e5a4"
    },
    {
      "cell_type": "code",
      "source": [
        "\n",
        "import csv\n",
        "import os\n",
        "import numpy as np\n",
        "from sklearn.datasets import make_blobs\n",
        "datafilename=\"BotnetDgaDataset_1000.csv\"\n",
        "resultname=\"result_BotnetDgaDataset_pegasos_1000.txt\"\n",
        "cwd=os.getcwd()\n",
        "mycsv=cwd+\"/\"+datafilename\n",
        "print(mycsv)\n",
        "def load_data(filepath):\n",
        "    with open(filepath) as csv_file:\n",
        "        data_file = csv.reader(csv_file)\n",
        "        temp = next(data_file)\n",
        "        n_samples = 1000\n",
        "        n_features = 7\n",
        "        data = np.empty((n_samples, n_features))\n",
        "        target = np.empty((n_samples,), dtype=int)\n",
        "\n",
        "        for i, ir in enumerate(data_file):\n",
        "            data[i] = np.asarray(ir[:-1], dtype=np.float64)\n",
        "            target[i] = np.asarray(ir[-1], dtype=int)\n",
        "\n",
        "    return data, target\n",
        "features, labels = load_data(mycsv)\n",
        "print (len(features))\n",
        "print (len(labels))"
      ],
      "outputs": [
        {
          "output_type": "stream",
          "name": "stdout",
          "text": [
            "/content/BotnetDgaDataset_1000.csv\n",
            "1000\n",
            "1000\n"
          ]
        }
      ],
      "execution_count": 2,
      "metadata": {
        "colab": {
          "base_uri": "https://localhost:8080/"
        },
        "id": "impressed-laser",
        "outputId": "70f392f6-1d1f-4e94-d0a3-3fc01bd47b88"
      },
      "id": "impressed-laser"
    },
    {
      "cell_type": "code",
      "source": [
        "!pip install qiskit-machine-learning"
      ],
      "outputs": [
        {
          "output_type": "stream",
          "name": "stdout",
          "text": [
            "Looking in indexes: https://pypi.org/simple, https://us-python.pkg.dev/colab-wheels/public/simple/\n",
            "Collecting qiskit-machine-learning\n",
            "  Downloading qiskit_machine_learning-0.5.0-py3-none-any.whl (152 kB)\n",
            "\u001b[K     |████████████████████████████████| 152 kB 4.4 MB/s \n",
            "\u001b[?25hCollecting dill<0.3.6,>=0.3.4\n",
            "  Downloading dill-0.3.5.1-py2.py3-none-any.whl (95 kB)\n",
            "\u001b[K     |████████████████████████████████| 95 kB 5.9 MB/s \n",
            "\u001b[?25hRequirement already satisfied: psutil>=5 in /usr/local/lib/python3.8/dist-packages (from qiskit-machine-learning) (5.4.8)\n",
            "Collecting qiskit-terra>=0.22\n",
            "  Downloading qiskit_terra-0.22.3-cp38-cp38-manylinux_2_17_x86_64.manylinux2014_x86_64.whl (4.8 MB)\n",
            "\u001b[K     |████████████████████████████████| 4.8 MB 63.5 MB/s \n",
            "\u001b[?25hRequirement already satisfied: numpy>=1.17 in /usr/local/lib/python3.8/dist-packages (from qiskit-machine-learning) (1.21.6)\n",
            "Requirement already satisfied: fastdtw in /usr/local/lib/python3.8/dist-packages (from qiskit-machine-learning) (0.3.4)\n",
            "Requirement already satisfied: setuptools>=40.1.0 in /usr/local/lib/python3.8/dist-packages (from qiskit-machine-learning) (57.4.0)\n",
            "Requirement already satisfied: scikit-learn>=0.20.0 in /usr/local/lib/python3.8/dist-packages (from qiskit-machine-learning) (1.0.2)\n",
            "Requirement already satisfied: scipy>=1.4 in /usr/local/lib/python3.8/dist-packages (from qiskit-machine-learning) (1.7.3)\n",
            "Collecting stevedore>=3.0.0\n",
            "  Downloading stevedore-4.1.1-py3-none-any.whl (50 kB)\n",
            "\u001b[K     |████████████████████████████████| 50 kB 8.0 MB/s \n",
            "\u001b[?25hCollecting ply>=3.10\n",
            "  Downloading ply-3.11-py2.py3-none-any.whl (49 kB)\n",
            "\u001b[K     |████████████████████████████████| 49 kB 7.6 MB/s \n",
            "\u001b[?25hCollecting tweedledum<2.0,>=1.1\n",
            "  Downloading tweedledum-1.1.1-cp38-cp38-manylinux_2_12_x86_64.manylinux2010_x86_64.whl (929 kB)\n",
            "\u001b[K     |████████████████████████████████| 929 kB 84.9 MB/s \n",
            "\u001b[?25hCollecting retworkx>=0.11.0\n",
            "  Downloading retworkx-0.12.1-py3-none-any.whl (10 kB)\n",
            "Collecting symengine>=0.9\n",
            "  Downloading symengine-0.9.2-cp38-cp38-manylinux2010_x86_64.whl (37.5 MB)\n",
            "\u001b[K     |████████████████████████████████| 37.5 MB 1.4 MB/s \n",
            "\u001b[?25hRequirement already satisfied: python-dateutil>=2.8.0 in /usr/local/lib/python3.8/dist-packages (from qiskit-terra>=0.22->qiskit-machine-learning) (2.8.2)\n",
            "Requirement already satisfied: sympy>=1.3 in /usr/local/lib/python3.8/dist-packages (from qiskit-terra>=0.22->qiskit-machine-learning) (1.7.1)\n",
            "Requirement already satisfied: six>=1.5 in /usr/local/lib/python3.8/dist-packages (from python-dateutil>=2.8.0->qiskit-terra>=0.22->qiskit-machine-learning) (1.15.0)\n",
            "Collecting rustworkx==0.12.1\n",
            "  Downloading rustworkx-0.12.1-cp38-cp38-manylinux_2_17_x86_64.manylinux2014_x86_64.whl (1.9 MB)\n",
            "\u001b[K     |████████████████████████████████| 1.9 MB 83.1 MB/s \n",
            "\u001b[?25hRequirement already satisfied: joblib>=0.11 in /usr/local/lib/python3.8/dist-packages (from scikit-learn>=0.20.0->qiskit-machine-learning) (1.2.0)\n",
            "Requirement already satisfied: threadpoolctl>=2.0.0 in /usr/local/lib/python3.8/dist-packages (from scikit-learn>=0.20.0->qiskit-machine-learning) (3.1.0)\n",
            "Collecting pbr!=2.1.0,>=2.0.0\n",
            "  Downloading pbr-5.11.0-py2.py3-none-any.whl (112 kB)\n",
            "\u001b[K     |████████████████████████████████| 112 kB 99.3 MB/s \n",
            "\u001b[?25hRequirement already satisfied: mpmath>=0.19 in /usr/local/lib/python3.8/dist-packages (from sympy>=1.3->qiskit-terra>=0.22->qiskit-machine-learning) (1.2.1)\n",
            "Installing collected packages: rustworkx, pbr, tweedledum, symengine, stevedore, retworkx, ply, dill, qiskit-terra, qiskit-machine-learning\n",
            "  Attempting uninstall: dill\n",
            "    Found existing installation: dill 0.3.6\n",
            "    Uninstalling dill-0.3.6:\n",
            "      Successfully uninstalled dill-0.3.6\n",
            "Successfully installed dill-0.3.5.1 pbr-5.11.0 ply-3.11 qiskit-machine-learning-0.5.0 qiskit-terra-0.22.3 retworkx-0.12.1 rustworkx-0.12.1 stevedore-4.1.1 symengine-0.9.2 tweedledum-1.1.1\n"
          ]
        }
      ],
      "execution_count": 4,
      "metadata": {
        "jupyter": {
          "source_hidden": false,
          "outputs_hidden": false
        },
        "nteract": {
          "transient": {
            "deleting": false
          }
        },
        "colab": {
          "base_uri": "https://localhost:8080/"
        },
        "id": "ebe91baa-564d-4ff0-8062-8b9a9589f83c",
        "outputId": "206ba01f-053f-4544-e736-85c7e17e682c"
      },
      "id": "ebe91baa-564d-4ff0-8062-8b9a9589f83c"
    },
    {
      "cell_type": "code",
      "source": [
        "import qiskit.tools.jupyter\n",
        "\n",
        "%qiskit_version_table"
      ],
      "metadata": {
        "colab": {
          "base_uri": "https://localhost:8080/",
          "height": 295
        },
        "id": "HJcbmiNAW-9z",
        "outputId": "cfede139-6148-4dd0-ad23-bcbb00770582"
      },
      "id": "HJcbmiNAW-9z",
      "execution_count": 5,
      "outputs": [
        {
          "output_type": "display_data",
          "data": {
            "text/plain": [
              "<IPython.core.display.HTML object>"
            ],
            "text/html": [
              "<h3>Version Information</h3><table><tr><th>Qiskit Software</th><th>Version</th></tr><tr><td><code>qiskit-terra</code></td><td>0.22.3</td></tr><tr><td><code>qiskit-machine-learning</code></td><td>0.5.0</td></tr><tr><th>System information</th></tr><tr><td>Python version</td><td>3.8.16</td></tr><tr><td>Python compiler</td><td>GCC 7.5.0</td></tr><tr><td>Python build</td><td>default, Dec  7 2022 01:12:13</td></tr><tr><td>OS</td><td>Linux</td></tr><tr><td>CPUs</td><td>6</td></tr><tr><td>Memory (Gb)</td><td>83.48347091674805</td></tr><tr><td colspan='2'>Mon Jan 02 20:12:27 2023 UTC</td></tr></table>"
            ]
          },
          "metadata": {}
        }
      ]
    },
    {
      "cell_type": "markdown",
      "source": [
        "We pre-process the data to ensure compatibility with the rotation encoding and split it into the training and test datasets."
      ],
      "metadata": {
        "id": "moderate-yugoslavia"
      },
      "id": "moderate-yugoslavia"
    },
    {
      "cell_type": "code",
      "source": [
        "import numpy as np\n",
        "\n",
        "from sklearn.model_selection import train_test_split\n",
        "from sklearn.preprocessing import MinMaxScaler\n",
        "\n",
        "features = MinMaxScaler(feature_range=(0, np.pi)).fit_transform(features)\n",
        "\n",
        "train_features, test_features, train_labels, test_labels = train_test_split(\n",
        "    features, labels, train_size=700, shuffle=False\n",
        ")\n"
      ],
      "outputs": [],
      "execution_count": 6,
      "metadata": {
        "id": "adolescent-composer"
      },
      "id": "adolescent-composer"
    },
    {
      "cell_type": "markdown",
      "source": [
        "We have seven features in the dataset, so we set a number of qubits to the number of features in the dataset.\n",
        "\n",
        "Then we set $\\tau$ to the number of steps performed during the training procedure. Please note that, there is no early stopping criterion in the algorithm. The algorithm iterates over all $\\tau$ steps.\n",
        "\n",
        "And the last one is the hyperparameter $C$. This is a positive regularization parameter. The strength of the regularization is inversely proportional to $C$. Smaller $C$ induce smaller weights which generally helps preventing overfitting. However, due to the nature of this algorithm, some of the computation steps become trivial for larger $C$. Thus, larger $C$ improve the performance of the algorithm drastically. If the data is linearly separable in feature space, $C$ should be chosen to be large. If the separation is not perfect, $C$ should be chosen smaller to prevent overfitting."
      ],
      "metadata": {
        "id": "central-poverty"
      },
      "id": "central-poverty"
    },
    {
      "cell_type": "code",
      "source": [
        "# number of qubits is equal to the number of features\n",
        "num_qubits = 7\n",
        "\n",
        "# number of steps performed during the training procedure\n",
        "tau = 100\n",
        "\n",
        "# regularization parameter\n",
        "C = 1000"
      ],
      "outputs": [],
      "execution_count": 7,
      "metadata": {
        "id": "dying-dispatch"
      },
      "id": "dying-dispatch"
    },
    {
      "cell_type": "markdown",
      "source": [
        "The algorithm will run using:\n",
        "\n",
        "- The default fidelity instantiated in `FidelityQuantumKernel`\n",
        "- A quantum kernel created from `ZFeatureMap`"
      ],
      "metadata": {
        "id": "improving-wilderness"
      },
      "id": "improving-wilderness"
    },
    {
      "cell_type": "code",
      "source": [
        "from qiskit import BasicAer\n",
        "from qiskit.circuit.library import ZFeatureMap\n",
        "from qiskit.utils import algorithm_globals\n",
        "\n",
        "from qiskit_machine_learning.kernels import FidelityQuantumKernel\n",
        "\n",
        "algorithm_globals.random_seed = 12345\n",
        "\n",
        "feature_map = ZFeatureMap(feature_dimension=num_qubits, reps=1)\n",
        "\n",
        "qkernel = FidelityQuantumKernel(feature_map=feature_map)"
      ],
      "outputs": [],
      "execution_count": 8,
      "metadata": {
        "id": "automated-allergy"
      },
      "id": "automated-allergy"
    },
    {
      "cell_type": "markdown",
      "source": [
        "The implementation `PegasosQSVC` is compatible with the `scikit-learn` interfaces and has a pretty standard way of training a model. In the constructor we pass parameters of the algorithm, in this case there are a regularization hyper-parameter $C$ and a number of steps.\n",
        "\n",
        "Then we pass training features and labels to the `fit` method, which trains a models and returns a fitted classifier.\n",
        "\n",
        "Afterwards, we score our model using test features and labels."
      ],
      "metadata": {
        "id": "attractive-stationery"
      },
      "id": "attractive-stationery"
    },
    {
      "cell_type": "code",
      "source": [
        "from qiskit_machine_learning.algorithms import PegasosQSVC\n",
        "import time\n",
        "pegasos_start=time.perf_counter()\n",
        "pegasos_qsvc = PegasosQSVC(quantum_kernel=qkernel, C=C, num_steps=tau)\n",
        "\n",
        "# training\n",
        "pegasos_qsvc.fit(train_features, train_labels)\n",
        "\n",
        "# testing\n",
        "pegasos_score = pegasos_qsvc.score(test_features, test_labels)\n",
        "pegasos_end=time.perf_counter()\n",
        "\n",
        "print(f\"PegasosQSVC Accuracy: {pegasos_score}\")\n",
        "print(pegasos_end-pegasos_start)"
      ],
      "outputs": [
        {
          "output_type": "stream",
          "name": "stdout",
          "text": [
            "PegasosQSVC Accuracy: 0.85\n",
            "48.881030916999975\n"
          ]
        }
      ],
      "execution_count": 9,
      "metadata": {
        "colab": {
          "base_uri": "https://localhost:8080/"
        },
        "id": "representative-thumb",
        "outputId": "804c722d-d770-4380-9627-3c020f5be771"
      },
      "id": "representative-thumb"
    },
    {
      "cell_type": "code",
      "source": [
        "import qiskit.tools.jupyter\n",
        "\n",
        "%qiskit_version_table\n"
      ],
      "outputs": [
        {
          "output_type": "display_data",
          "data": {
            "text/plain": [
              "<IPython.core.display.HTML object>"
            ],
            "text/html": [
              "<h3>Version Information</h3><table><tr><th>Qiskit Software</th><th>Version</th></tr><tr><td><code>qiskit-terra</code></td><td>0.22.3</td></tr><tr><td><code>qiskit-machine-learning</code></td><td>0.5.0</td></tr><tr><th>System information</th></tr><tr><td>Python version</td><td>3.8.16</td></tr><tr><td>Python compiler</td><td>GCC 7.5.0</td></tr><tr><td>Python build</td><td>default, Dec  7 2022 01:12:13</td></tr><tr><td>OS</td><td>Linux</td></tr><tr><td>CPUs</td><td>6</td></tr><tr><td>Memory (Gb)</td><td>83.48347091674805</td></tr><tr><td colspan='2'>Mon Jan 02 16:42:58 2023 UTC</td></tr></table>"
            ]
          },
          "metadata": {}
        }
      ],
      "execution_count": null,
      "metadata": {
        "id": "imperial-promise",
        "outputId": "f47cbb20-99ee-4eee-90ee-92531e332eee",
        "colab": {
          "base_uri": "https://localhost:8080/",
          "height": 295
        }
      },
      "id": "imperial-promise"
    },
    {
      "cell_type": "code",
      "source": [
        "!pip install pylatexenc"
      ],
      "metadata": {
        "colab": {
          "base_uri": "https://localhost:8080/"
        },
        "id": "RsP-5UpZweSV",
        "outputId": "d42ea432-1eb6-4901-cddd-5ad7fcdd8d79"
      },
      "id": "RsP-5UpZweSV",
      "execution_count": null,
      "outputs": [
        {
          "output_type": "stream",
          "name": "stdout",
          "text": [
            "Looking in indexes: https://pypi.org/simple, https://us-python.pkg.dev/colab-wheels/public/simple/\n",
            "Collecting pylatexenc\n",
            "  Downloading pylatexenc-2.10.tar.gz (162 kB)\n",
            "\u001b[K     |████████████████████████████████| 162 kB 14.8 MB/s \n",
            "\u001b[?25hBuilding wheels for collected packages: pylatexenc\n",
            "  Building wheel for pylatexenc (setup.py) ... \u001b[?25l\u001b[?25hdone\n",
            "  Created wheel for pylatexenc: filename=pylatexenc-2.10-py3-none-any.whl size=136833 sha256=9c17cdc0bcbf91e67208f3ec9096b3f53dbbc910dce0273c1b4559c12989e6da\n",
            "  Stored in directory: /root/.cache/pip/wheels/72/99/be/81d9bcdf5dd5ee5acd8119a9dd5bc07204c9ce205fd341b021\n",
            "Successfully built pylatexenc\n",
            "Installing collected packages: pylatexenc\n",
            "Successfully installed pylatexenc-2.10\n"
          ]
        }
      ]
    },
    {
      "cell_type": "code",
      "source": [
        "from qiskit_machine_learning.algorithms import QSVC\n",
        "import time\n",
        "from qiskit.algorithms.optimizers import SLSQP, SPSA\n",
        "from qiskit.circuit.library import ZFeatureMap\n",
        "\n",
        "num_features = features.shape[1]\n",
        "\n",
        "feature_map = ZZFeatureMap(feature_dimension=num_features, reps=1)\n",
        "feature_map.decompose().draw(output=\"mpl\", fold=20)\n",
        "qsvc = QSVC(quantum_kernel=qkernel)\n",
        "\n",
        "\n",
        "import time\n",
        "QSVC_start=time.perf_counter()\n",
        "# training\n",
        "qsvc.fit(train_features, train_labels)\n",
        "\n",
        "# testing\n",
        "qsvc_score = qsvc.score(test_features, test_labels)\n",
        "QSVC_end=time.perf_counter()\n",
        "\n",
        "print(f\"QSVC Accuracy: {qsvc_score}\")\n",
        "print(QSVC_end-QSVC_start) "
      ],
      "metadata": {
        "colab": {
          "base_uri": "https://localhost:8080/"
        },
        "id": "iZrTR3JzPqhH",
        "outputId": "42fd88e9-a530-49da-fcb2-d527e7ac086c"
      },
      "id": "iZrTR3JzPqhH",
      "execution_count": null,
      "outputs": [
        {
          "output_type": "stream",
          "name": "stdout",
          "text": [
            "QSVC Accuracy: 0.8633333333333333\n",
            "3090.653390765001\n"
          ]
        }
      ]
    }
  ],
  "metadata": {
    "celltoolbar": "Tags",
    "kernelspec": {
      "name": "python3",
      "language": "python",
      "display_name": "Python 3 (ipykernel)"
    },
    "language_info": {
      "name": "python",
      "version": "3.9.15",
      "mimetype": "text/x-python",
      "codemirror_mode": {
        "name": "ipython",
        "version": 3
      },
      "pygments_lexer": "ipython3",
      "nbconvert_exporter": "python",
      "file_extension": ".py"
    },
    "kernel_info": {
      "name": "python3"
    },
    "nteract": {
      "version": "nteract-front-end@1.0.0"
    },
    "colab": {
      "provenance": [],
      "machine_shape": "hm"
    },
    "gpuClass": "premium",
    "accelerator": "GPU"
  },
  "nbformat": 4,
  "nbformat_minor": 5
}