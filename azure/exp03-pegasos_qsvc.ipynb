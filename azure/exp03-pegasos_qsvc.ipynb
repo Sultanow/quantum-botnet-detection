{
  "cells": [
    {
      "cell_type": "markdown",
      "source": [
        "# Pegasos Quantum Support Vector Classifier\n",
        "\n",
        "There's another SVM based algorithm that benefits from the quantum kernel method. Here, we introduce an implementation of a another classification algorithm, which is an alternative version to the `QSVC` available in Qiskit Machine Learning and shown in the [\"Quantum Kernel Machine Learning\"](./03_quantum_kernel.ipynb) tutorial. This classification algorithm implements the Pegasos algorithm from the paper \"Pegasos: Primal Estimated sub-GrAdient SOlver for SVM\" by Shalev-Shwartz et al., see: https://home.ttic.edu/~nati/Publications/PegasosMPB.pdf.\n",
        "\n",
        "This algorithm is an alternative to the dual optimization from the `scikit-learn` package, benefits from the kernel trick, and yields a training complexity that is independent of the size of the training set. Thus, the `PegasosQSVC` is expected to train faster than QSVC for sufficiently large training sets.\n",
        "\n",
        "The algorithm can be used as direct replacement of `QSVC` with some hyper-parameterization."
      ],
      "metadata": {},
      "id": "opened-florist"
    },
    {
      "cell_type": "markdown",
      "source": [
        "Let's generate some data:"
      ],
      "metadata": {},
      "id": "thirty-painting"
    },
    {
      "cell_type": "code",
      "source": [
        "!wget https://aq5efd7d2644dd406cb3ec2d.blob.core.windows.net/dga/BotnetDgaDataset_1000.csv\r\n"
      ],
      "outputs": [
        {
          "output_type": "stream",
          "name": "stdout",
          "text": "--2022-12-29 06:26:33--  https://aq5efd7d2644dd406cb3ec2d.blob.core.windows.net/dga/BotnetDgaDataset_1000.csv\nResolving aq5efd7d2644dd406cb3ec2d.blob.core.windows.net (aq5efd7d2644dd406cb3ec2d.blob.core.windows.net)... 52.239.169.4\nConnecting to aq5efd7d2644dd406cb3ec2d.blob.core.windows.net (aq5efd7d2644dd406cb3ec2d.blob.core.windows.net)|52.239.169.4|:443... connected.\nHTTP request sent, awaiting response... 200 OK\nLength: 75901 (74K) [text/csv]\nSaving to: ‘BotnetDgaDataset_1000.csv’\n\nBotnetDgaDataset_10 100%[===================>]  74.12K  --.-KB/s    in 0.1s    \n\n2022-12-29 06:26:33 (595 KB/s) - ‘BotnetDgaDataset_1000.csv’ saved [75901/75901]\n\n"
        }
      ],
      "execution_count": 32,
      "metadata": {
        "jupyter": {
          "source_hidden": false,
          "outputs_hidden": false
        },
        "nteract": {
          "transient": {
            "deleting": false
          }
        }
      },
      "id": "a28fe23a-38ac-4e9d-a5b2-9b6eb49c2f7e"
    },
    {
      "cell_type": "code",
      "source": [
        "import os\r\n",
        "files = os.listdir(os.curdir)\r\n",
        "for file in files:\r\n",
        "    print(file)"
      ],
      "outputs": [
        {
          "output_type": "stream",
          "name": "stdout",
          "text": ".bash_logout\n.bashrc\n.profile\nazurequantumtoken.json\n.cache\n.ipython\n.config\n.jupyter\n.local\nBotnetDgaDataset_10.csv\n.gitconfig\n.dotnet\n.nuget\n.templateengine\n.azure\n.packages\n"
        }
      ],
      "execution_count": 19,
      "metadata": {
        "jupyter": {
          "source_hidden": false,
          "outputs_hidden": false
        },
        "nteract": {
          "transient": {
            "deleting": false
          }
        }
      },
      "id": "3362235b-385e-413a-b646-caf32971e5a4"
    },
    {
      "cell_type": "code",
      "source": [
        "\n",
        "import csv\n",
        "import os\n",
        "import numpy as np\n",
        "from sklearn.datasets import make_blobs\n",
        "datafilename=\"BotnetDgaDataset_1000.csv\"\n",
        "resultname=\"result_BotnetDgaDataset_pegasos_1000.txt\"\n",
        "cwd=os.getcwd()\n",
        "mycsv=cwd+\"/\"+datafilename\n",
        "print(mycsv)\n",
        "def load_data(filepath):\n",
        "    with open(filepath) as csv_file:\n",
        "        data_file = csv.reader(csv_file)\n",
        "        temp = next(data_file)\n",
        "        n_samples = 1000\n",
        "        n_features = 7\n",
        "        data = np.empty((n_samples, n_features))\n",
        "        target = np.empty((n_samples,), dtype=int)\n",
        "\n",
        "        for i, ir in enumerate(data_file):\n",
        "            data[i] = np.asarray(ir[:-1], dtype=np.float64)\n",
        "            target[i] = np.asarray(ir[-1], dtype=int)\n",
        "\n",
        "    return data, target\n",
        "features, labels = load_data(mycsv)\n"
      ],
      "outputs": [
        {
          "output_type": "stream",
          "name": "stdout",
          "text": "/home/jovyan/BotnetDgaDataset_1000.csv\n[[2.75000000e+00 2.02395145e+00 1.68833892e+00 ... 1.20000000e+01\n  8.28927094e-01 6.10289861e+01]\n [2.75000000e+00 1.34932404e+00 1.27629343e+00 ... 1.10000000e+01\n  1.07095312e-01 5.03986659e+01]\n [2.94770278e+00 1.18356393e+00 1.04314566e+00 ... 1.20000000e+01\n  1.07095312e-01 4.38894660e+01]\n ...\n [2.75000000e+00 2.27882381e+00 1.59106724e+00 ... 1.10000000e+01\n  8.28927094e-01 2.20945536e+01]\n [3.03063906e+00 2.57658904e+00 6.44391656e-01 ... 2.00000000e+01\n  8.28927094e-01 4.25845531e+01]\n [3.11827516e+00 9.13557521e-01 8.23459962e-01 ... 2.50000000e+01\n  1.07095312e-01 1.78458415e+02]]\n[0 0 0 0 1 1 0 0 0 0 0 1 1 1 1 1 0 1 0 0 1 0 1 0 0 0 1 0 0 1 0 0 0 1 0 0 0\n 0 0 1 0 1 0 1 0 0 0 0 0 1 1 0 0 0 0 0 0 0 1 0 0 0 0 0 1 1 1 1 0 1 0 0 1 1\n 0 1 1 1 0 0 1 0 1 1 1 1 1 1 0 1 1 0 0 1 1 0 0 1 0 0 0 0 0 1 1 1 1 1 1 1 1\n 1 1 1 1 1 0 0 1 1 0 1 1 0 1 0 1 1 1 0 1 1 0 1 0 0 1 1 0 1 0 1 0 0 1 1 1 0\n 1 1 1 1 0 0 0 0 0 0 0 0 0 0 0 1 1 0 0 0 0 1 1 0 0 0 0 0 0 1 0 0 0 0 0 1 1\n 0 0 0 1 1 0 1 0 1 1 1 1 1 0 0 1 1 1 1 0 0 1 1 1 1 0 1 1 0 1 0 1 1 1 0 0 0\n 0 0 0 1 1 1 0 1 0 0 0 0 1 0 1 0 0 0 0 1 0 0 0 0 1 0 1 0 1 0 0 1 0 0 0 1 0\n 1 0 0 1 0 1 1 0 1 0 0 1 0 1 1 0 0 1 0 0 0 1 1 0 1 0 0 0 1 0 1 0 0 1 0 1 0\n 1 1 0 1 0 1 0 1 0 0 1 0 0 1 0 1 1 0 0 0 1 0 1 0 1 1 1 0 1 0 1 1 1 0 0 0 0\n 1 1 1 0 0 0 0 1 1 1 1 1 0 1 1 0 0 0 0 0 0 0 1 0 0 0 0 0 0 1 0 1 0 0 0 0 0\n 0 1 1 1 1 1 0 0 0 0 0 1 1 1 1 1 0 0 0 1 0 1 1 1 1 0 0 1 0 1 0 0 1 1 0 1 1\n 1 0 0 0 0 0 1 1 1 0 0 0 0 1 0 0 1 1 0 1 0 0 0 0 0 0 0 1 0 1 1 0 0 0 0 0 1\n 0 0 0 0 0 1 0 0 1 0 0 0 0 0 1 0 0 0 0 0 0 1 0 0 1 1 0 0 0 1 0 0 0 1 0 1 1\n 0 1 0 0 1 0 0 0 1 0 0 0 1 1 0 1 0 0 0 1 0 0 1 1 0 1 0 1 0 1 0 1 1 0 1 0 0\n 0 0 0 1 1 1 1 1 0 0 0 0 0 0 1 1 1 0 1 0 0 1 0 0 1 1 0 0 0 0 1 0 0 1 0 0 0\n 1 0 1 1 0 0 0 1 0 1 1 0 1 1 1 0 1 0 1 0 1 0 1 1 0 1 1 1 1 0 0 0 1 0 1 1 1\n 0 0 0 1 0 1 1 0 0 1 0 0 0 1 0 0 0 0 1 0 0 0 0 1 0 1 0 0 0 0 0 1 1 1 1 1 0\n 1 1 0 0 1 0 0 1 1 1 1 0 1 1 1 0 0 0 1 1 0 0 0 0 1 0 1 1 0 0 1 0 0 1 0 1 1\n 1 0 1 0 0 0 1 0 1 0 0 1 1 1 1 0 0 0 0 1 0 1 1 0 0 0 1 0 0 1 0 0 1 0 0 0 1\n 0 1 1 1 1 1 0 1 1 1 1 1 0 1 0 1 0 0 1 0 1 0 1 0 0 0 1 1 0 1 0 0 1 0 0 1 0\n 0 1 0 1 1 0 0 1 1 1 0 0 0 1 1 0 1 0 0 1 0 0 0 1 0 0 0 0 0 0 1 1 0 1 1 0 1\n 0 0 1 1 0 1 0 1 0 1 1 1 0 1 0 1 0 1 1 1 0 1 0 1 1 0 1 0 0 0 1 0 1 0 0 0 1\n 0 0 0 1 1 0 0 0 1 1 1 0 0 1 1 0 1 1 1 0 0 1 1 1 0 0 1 1 0 1 1 0 1 0 1 0 0\n 1 1 0 0 1 1 0 0 1 1 0 1 1 1 0 0 1 0 1 0 0 0 0 0 0 1 0 1 0 1 1 1 0 1 0 0 1\n 1 0 0 1 0 0 0 0 0 0 1 0 1 0 1 1 0 1 0 0 0 0 1 0 0 1 1 1 0 1 0 0 1 1 0 0 1\n 1 0 0 1 1 0 1 0 1 1 1 0 1 1 1 1 1 0 0 0 0 1 1 0 0 1 0 1 0 1 1 0 0 1 0 0 0\n 1 1 0 0 1 0 0 0 0 0 0 0 0 1 1 0 1 1 1 1 1 1 0 1 0 0 1 0 1 0 0 0 1 0 0 1 1\n 1]\n"
        }
      ],
      "execution_count": 34,
      "metadata": {},
      "id": "impressed-laser"
    },
    {
      "cell_type": "code",
      "source": [
        "!pip install qiskit-machine-learning"
      ],
      "outputs": [
        {
          "output_type": "stream",
          "name": "stdout",
          "text": "Defaulting to user installation because normal site-packages is not writeable\nRequirement already satisfied: qiskit-machine-learning in ./.local/lib/python3.9/site-packages (0.5.0)\nRequirement already satisfied: qiskit-terra>=0.22 in ./.local/lib/python3.9/site-packages (from qiskit-machine-learning) (0.22.3)\nRequirement already satisfied: fastdtw in /usr/local/lib/python3.9/site-packages (from qiskit-machine-learning) (0.3.4)\nRequirement already satisfied: dill<0.3.6,>=0.3.4 in ./.local/lib/python3.9/site-packages (from qiskit-machine-learning) (0.3.5.1)\nRequirement already satisfied: scipy>=1.4 in /usr/local/lib/python3.9/site-packages (from qiskit-machine-learning) (1.9.3)\nRequirement already satisfied: psutil>=5 in /usr/local/lib/python3.9/site-packages (from qiskit-machine-learning) (5.9.4)\nRequirement already satisfied: numpy>=1.17 in /usr/local/lib/python3.9/site-packages (from qiskit-machine-learning) (1.23.5)\nRequirement already satisfied: scikit-learn>=0.20.0 in /usr/local/lib/python3.9/site-packages (from qiskit-machine-learning) (1.1.3)\nRequirement already satisfied: setuptools>=40.1.0 in /usr/local/lib/python3.9/site-packages (from qiskit-machine-learning) (58.1.0)\nRequirement already satisfied: python-dateutil>=2.8.0 in /usr/local/lib/python3.9/site-packages (from qiskit-terra>=0.22->qiskit-machine-learning) (2.8.2)\nRequirement already satisfied: ply>=3.10 in /usr/local/lib/python3.9/site-packages (from qiskit-terra>=0.22->qiskit-machine-learning) (3.11)\nRequirement already satisfied: stevedore>=3.0.0 in /usr/local/lib/python3.9/site-packages (from qiskit-terra>=0.22->qiskit-machine-learning) (4.1.1)\nRequirement already satisfied: sympy>=1.3 in /usr/local/lib/python3.9/site-packages (from qiskit-terra>=0.22->qiskit-machine-learning) (1.11.1)\nRequirement already satisfied: tweedledum<2.0,>=1.1 in /usr/local/lib/python3.9/site-packages (from qiskit-terra>=0.22->qiskit-machine-learning) (1.1.1)\nRequirement already satisfied: retworkx>=0.11.0 in /usr/local/lib/python3.9/site-packages (from qiskit-terra>=0.22->qiskit-machine-learning) (0.12.1)\nRequirement already satisfied: symengine>=0.9 in /usr/local/lib/python3.9/site-packages (from qiskit-terra>=0.22->qiskit-machine-learning) (0.9.2)\nRequirement already satisfied: joblib>=1.0.0 in /usr/local/lib/python3.9/site-packages (from scikit-learn>=0.20.0->qiskit-machine-learning) (1.2.0)\nRequirement already satisfied: threadpoolctl>=2.0.0 in /usr/local/lib/python3.9/site-packages (from scikit-learn>=0.20.0->qiskit-machine-learning) (3.1.0)\nRequirement already satisfied: six>=1.5 in /usr/local/lib/python3.9/site-packages (from python-dateutil>=2.8.0->qiskit-terra>=0.22->qiskit-machine-learning) (1.16.0)\nRequirement already satisfied: rustworkx==0.12.1 in /usr/local/lib/python3.9/site-packages (from retworkx>=0.11.0->qiskit-terra>=0.22->qiskit-machine-learning) (0.12.1)\nRequirement already satisfied: pbr!=2.1.0,>=2.0.0 in /usr/local/lib/python3.9/site-packages (from stevedore>=3.0.0->qiskit-terra>=0.22->qiskit-machine-learning) (5.11.0)\nRequirement already satisfied: mpmath>=0.19 in /usr/local/lib/python3.9/site-packages (from sympy>=1.3->qiskit-terra>=0.22->qiskit-machine-learning) (1.2.1)\n"
        }
      ],
      "execution_count": 8,
      "metadata": {
        "jupyter": {
          "source_hidden": false,
          "outputs_hidden": false
        },
        "nteract": {
          "transient": {
            "deleting": false
          }
        }
      },
      "id": "ebe91baa-564d-4ff0-8062-8b9a9589f83c"
    },
    {
      "cell_type": "markdown",
      "source": [
        "We pre-process the data to ensure compatibility with the rotation encoding and split it into the training and test datasets."
      ],
      "metadata": {},
      "id": "moderate-yugoslavia"
    },
    {
      "cell_type": "code",
      "source": [
        "import numpy as np\n",
        "\n",
        "from sklearn.model_selection import train_test_split\n",
        "from sklearn.preprocessing import MinMaxScaler\n",
        "\n",
        "features = MinMaxScaler(feature_range=(0, np.pi)).fit_transform(features)\n",
        "\n",
        "train_features, test_features, train_labels, test_labels = train_test_split(\n",
        "    features, labels, train_size=700, shuffle=False\n",
        ")\n"
      ],
      "outputs": [],
      "execution_count": 35,
      "metadata": {},
      "id": "adolescent-composer"
    },
    {
      "cell_type": "markdown",
      "source": [
        "We have seven features in the dataset, so we set a number of qubits to the number of features in the dataset.\n",
        "\n",
        "Then we set $\\tau$ to the number of steps performed during the training procedure. Please note that, there is no early stopping criterion in the algorithm. The algorithm iterates over all $\\tau$ steps.\n",
        "\n",
        "And the last one is the hyperparameter $C$. This is a positive regularization parameter. The strength of the regularization is inversely proportional to $C$. Smaller $C$ induce smaller weights which generally helps preventing overfitting. However, due to the nature of this algorithm, some of the computation steps become trivial for larger $C$. Thus, larger $C$ improve the performance of the algorithm drastically. If the data is linearly separable in feature space, $C$ should be chosen to be large. If the separation is not perfect, $C$ should be chosen smaller to prevent overfitting."
      ],
      "metadata": {},
      "id": "central-poverty"
    },
    {
      "cell_type": "code",
      "source": [
        "# number of qubits is equal to the number of features\n",
        "num_qubits = 7\n",
        "\n",
        "# number of steps performed during the training procedure\n",
        "tau = 100\n",
        "\n",
        "# regularization parameter\n",
        "C = 1000"
      ],
      "outputs": [],
      "execution_count": 36,
      "metadata": {},
      "id": "dying-dispatch"
    },
    {
      "cell_type": "markdown",
      "source": [
        "The algorithm will run using:\n",
        "\n",
        "- The default fidelity instantiated in `FidelityQuantumKernel`\n",
        "- A quantum kernel created from `ZFeatureMap`"
      ],
      "metadata": {},
      "id": "improving-wilderness"
    },
    {
      "cell_type": "code",
      "source": [
        "from qiskit import BasicAer\n",
        "from qiskit.circuit.library import ZFeatureMap\n",
        "from qiskit.utils import algorithm_globals\n",
        "\n",
        "from qiskit_machine_learning.kernels import FidelityQuantumKernel\n",
        "\n",
        "algorithm_globals.random_seed = 12345\n",
        "\n",
        "feature_map = ZFeatureMap(feature_dimension=num_qubits, reps=1)\n",
        "\n",
        "qkernel = FidelityQuantumKernel(feature_map=feature_map)"
      ],
      "outputs": [],
      "execution_count": 37,
      "metadata": {},
      "id": "automated-allergy"
    },
    {
      "cell_type": "markdown",
      "source": [
        "The implementation `PegasosQSVC` is compatible with the `scikit-learn` interfaces and has a pretty standard way of training a model. In the constructor we pass parameters of the algorithm, in this case there are a regularization hyper-parameter $C$ and a number of steps.\n",
        "\n",
        "Then we pass training features and labels to the `fit` method, which trains a models and returns a fitted classifier.\n",
        "\n",
        "Afterwards, we score our model using test features and labels."
      ],
      "metadata": {},
      "id": "attractive-stationery"
    },
    {
      "cell_type": "code",
      "source": [
        "from qiskit_machine_learning.algorithms import PegasosQSVC\n",
        "import time, datetime\n",
        "pegasos_qsvc = PegasosQSVC(quantum_kernel=qkernel, C=C, num_steps=tau)\n",
        "start = time.perf_counter()\n",
        "f = open(resultname, \"a\")\n",
        "f.write(datetime.datetime.now().strftime(\"%Y-%m-%d_%H-%M-%S_\") + \"   training_size = \" + str(700) + \"  test_size = \" + str(300) + \"  feature_dim = \" + str(\n",
        "    7) + \"\\n\\n\")\n",
        "f.flush()\n",
        "f.close()\n",
        "# training\n",
        "pegasos_qsvc.fit(train_features, train_labels)\n",
        "\n",
        "# testing\n",
        "pegasos_score = pegasos_qsvc.score(test_features, test_labels)\n",
        "finish = time.perf_counter()\n",
        "print(f\"PegasosQSVC Accuracy: {pegasos_score}\")\n",
        "print(\"time=\",finish-start)"
      ],
      "outputs": [
        {
          "output_type": "stream",
          "name": "stdout",
          "text": "PegasosQSVC Accuracy: 0.7966666666666666\ntime= 57.733982165998896\n"
        }
      ],
      "execution_count": 44,
      "metadata": {},
      "id": "representative-thumb"
    },
    {
      "cell_type": "code",
      "source": [
        "import qiskit.tools.jupyter\n",
        "\n",
        "%qiskit_version_table\n"
      ],
      "outputs": [
        {
          "output_type": "display_data",
          "data": {
            "text/plain": "<IPython.core.display.HTML object>",
            "text/html": "<h3>Version Information</h3><table><tr><th>Qiskit Software</th><th>Version</th></tr><tr><td><code>qiskit-terra</code></td><td>0.22.3</td></tr><tr><td><code>qiskit-aer</code></td><td>0.10.4</td></tr><tr><td><code>qiskit-ignis</code></td><td>0.7.0</td></tr><tr><td><code>qiskit</code></td><td>0.36.0</td></tr><tr><td><code>qiskit-machine-learning</code></td><td>0.5.0</td></tr><tr><th>System information</th></tr><tr><td>Python version</td><td>3.9.15</td></tr><tr><td>Python compiler</td><td>GCC 10.2.1 20210110</td></tr><tr><td>Python build</td><td>main, Nov 15 2022 21:44:41</td></tr><tr><td>OS</td><td>Linux</td></tr><tr><td>CPUs</td><td>2</td></tr><tr><td>Memory (Gb)</td><td>15.642669677734375</td></tr><tr><td colspan='2'>Thu Dec 29 06:43:25 2022 UTC</td></tr></table>"
          },
          "metadata": {}
        }
      ],
      "execution_count": 45,
      "metadata": {},
      "id": "imperial-promise"
    }
  ],
  "metadata": {
    "celltoolbar": "Tags",
    "kernelspec": {
      "name": "python3",
      "language": "python",
      "display_name": "Python 3 (ipykernel)"
    },
    "language_info": {
      "name": "python",
      "version": "3.9.15",
      "mimetype": "text/x-python",
      "codemirror_mode": {
        "name": "ipython",
        "version": 3
      },
      "pygments_lexer": "ipython3",
      "nbconvert_exporter": "python",
      "file_extension": ".py"
    },
    "kernel_info": {
      "name": "python3"
    },
    "nteract": {
      "version": "nteract-front-end@1.0.0"
    }
  },
  "nbformat": 4,
  "nbformat_minor": 5
}